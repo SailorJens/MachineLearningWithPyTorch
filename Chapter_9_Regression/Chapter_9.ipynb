{
 "cells": [
  {
   "cell_type": "markdown",
   "id": "6e383258",
   "metadata": {},
   "source": [
    "# Linear Regression"
   ]
  },
  {
   "cell_type": "markdown",
   "id": "7fe8aca8",
   "metadata": {},
   "source": [
    "## Loading Ames Housing Dataset"
   ]
  },
  {
   "cell_type": "code",
   "execution_count": 4,
   "id": "2acbabbd",
   "metadata": {},
   "outputs": [
    {
     "name": "stdout",
     "output_type": "stream",
     "text": [
      "   Overall Qual  Overall Cond  Total Bsmt SF Central Air  Gr Liv Area  \\\n",
      "0             6             5         1080.0           Y         1656   \n",
      "1             5             6          882.0           Y          896   \n",
      "2             6             6         1329.0           Y         1329   \n",
      "3             7             5         2110.0           Y         2110   \n",
      "4             5             5          928.0           Y         1629   \n",
      "\n",
      "   SalePrice  \n",
      "0     215000  \n",
      "1     105000  \n",
      "2     172000  \n",
      "3     244000  \n",
      "4     189900  \n"
     ]
    }
   ],
   "source": [
    "import pandas as pd\n",
    "\n",
    "selected_features = ['Overall Qual', 'Overall Cond', 'Gr Liv Area', 'Central Air', 'Total Bsmt SF', 'SalePrice']\n",
    "\n",
    "# ames_all = pd.read_csv('AmesHousing.csv')\n",
    "# ames = ames_all[selected_features]\n",
    "\n",
    "# shorter\n",
    "ames = pd.read_csv('AmesHousing.csv', usecols=selected_features)\n",
    "\n",
    "\n",
    "print(ames.head())\n"
   ]
  }
 ],
 "metadata": {
  "kernelspec": {
   "display_name": ".venv",
   "language": "python",
   "name": "python3"
  },
  "language_info": {
   "codemirror_mode": {
    "name": "ipython",
    "version": 3
   },
   "file_extension": ".py",
   "mimetype": "text/x-python",
   "name": "python",
   "nbconvert_exporter": "python",
   "pygments_lexer": "ipython3",
   "version": "3.12.11"
  }
 },
 "nbformat": 4,
 "nbformat_minor": 5
}
